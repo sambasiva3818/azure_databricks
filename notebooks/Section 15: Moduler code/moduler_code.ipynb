{
 "cells": [
  {
   "cell_type": "code",
   "execution_count": 0,
   "metadata": {
    "application/vnd.databricks.v1+cell": {
     "cellMetadata": {},
     "inputWidgets": {},
     "nuid": "3614e24c-a00b-42f1-8897-d802e95a1027",
     "showTitle": false,
     "tableResultSettingsMap": {},
     "title": ""
    }
   },
   "outputs": [],
   "source": [
    "# Check DataFrame Column Exists\n",
    "# Check if a column exists\n",
    "if \"firstname\" in df.columns:\n",
    "    print(\"Column 'firstname' exists in the DataFrame.\")\n",
    "else:\n",
    "    print(\"Column 'firstname' does not exist in the DataFrame.\")"
   ]
  }
 ],
 "metadata": {
  "application/vnd.databricks.v1+notebook": {
   "computePreferences": null,
   "dashboards": [],
   "environmentMetadata": {
    "base_environment": "",
    "environment_version": "2"
   },
   "language": "python",
   "notebookMetadata": {
    "pythonIndentUnit": 4
   },
   "notebookName": "moduler_code",
   "widgets": {}
  },
  "language_info": {
   "name": "python"
  }
 },
 "nbformat": 4,
 "nbformat_minor": 0
}
