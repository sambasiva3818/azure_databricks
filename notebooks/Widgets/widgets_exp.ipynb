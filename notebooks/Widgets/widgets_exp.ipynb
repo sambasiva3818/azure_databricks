{
 "cells": [
  {
   "cell_type": "code",
   "execution_count": 0,
   "metadata": {
    "application/vnd.databricks.v1+cell": {
     "cellMetadata": {
      "byteLimit": 2048000,
      "rowLimit": 10000
     },
     "inputWidgets": {},
     "nuid": "ab60afbe-6d71-4a16-ab46-c1e8745d4fa7",
     "showTitle": false,
     "tableResultSettingsMap": {},
     "title": ""
    }
   },
   "outputs": [],
   "source": [
    "dbutils.widgets.multiselect(\"multiSelectWidget\", \"US\", [\"Canada\", \"US\",\"INDIA\"])"
   ]
  },
  {
   "cell_type": "code",
   "execution_count": 0,
   "metadata": {
    "application/vnd.databricks.v1+cell": {
     "cellMetadata": {
      "byteLimit": 2048000,
      "rowLimit": 10000
     },
     "inputWidgets": {},
     "nuid": "67248e48-4e29-4097-8041-0376f2c68322",
     "showTitle": false,
     "tableResultSettingsMap": {},
     "title": ""
    }
   },
   "outputs": [],
   "source": [
    "dbutils.widgets.get(\"multiSelectWidget\")"
   ]
  },
  {
   "cell_type": "code",
   "execution_count": 0,
   "metadata": {
    "application/vnd.databricks.v1+cell": {
     "cellMetadata": {},
     "inputWidgets": {},
     "nuid": "8f5f5058-0705-406a-8aa7-a7d65d299eb3",
     "showTitle": false,
     "tableResultSettingsMap": {},
     "title": ""
    }
   },
   "outputs": [],
   "source": []
  }
 ],
 "metadata": {
  "application/vnd.databricks.v1+notebook": {
   "computePreferences": null,
   "dashboards": [],
   "environmentMetadata": {
    "base_environment": "",
    "environment_version": "2"
   },
   "language": "python",
   "notebookMetadata": {
    "pythonIndentUnit": 4
   },
   "notebookName": "widgets_exp",
   "widgets": {
    "multiSelectWidget": {
     "currentValue": "US",
     "nuid": "c7adafec-05f7-4829-b1f2-947093dea856",
     "typedWidgetInfo": {
      "autoCreated": false,
      "defaultValue": "US",
      "label": null,
      "name": "multiSelectWidget",
      "options": {
       "widgetDisplayType": "Dropdown",
       "choices": [
        "Canada",
        "US",
        "INDIA"
       ],
       "fixedDomain": true,
       "multiselect": true
      },
      "parameterDataType": "String"
     },
     "widgetInfo": {
      "widgetType": "multiselect",
      "defaultValue": "US",
      "label": null,
      "name": "multiSelectWidget",
      "options": {
       "widgetType": "dropdown",
       "autoCreated": false,
       "choices": [
        "Canada",
        "US",
        "INDIA"
       ]
      }
     }
    }
   }
  },
  "language_info": {
   "name": "python"
  }
 },
 "nbformat": 4,
 "nbformat_minor": 0
}
